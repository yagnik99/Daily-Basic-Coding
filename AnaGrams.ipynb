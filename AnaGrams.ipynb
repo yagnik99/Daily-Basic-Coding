{
  "nbformat": 4,
  "nbformat_minor": 0,
  "metadata": {
    "colab": {
      "name": "AnaGrams.ipynb",
      "provenance": [],
      "collapsed_sections": [],
      "include_colab_link": true
    },
    "kernelspec": {
      "name": "python3",
      "display_name": "Python 3"
    }
  },
  "cells": [
    {
      "cell_type": "markdown",
      "metadata": {
        "id": "view-in-github",
        "colab_type": "text"
      },
      "source": [
        "<a href=\"https://colab.research.google.com/github/yagnik99/Daily-Basic-Coding/blob/main/AnaGrams.ipynb\" target=\"_parent\"><img src=\"https://colab.research.google.com/assets/colab-badge.svg\" alt=\"Open In Colab\"/></a>"
      ]
    },
    {
      "cell_type": "markdown",
      "metadata": {
        "id": "XA-b8BLzYrbe"
      },
      "source": [
        "\n",
        "# Time : 1 hour\n",
        "\n",
        "# Problem Statement"
      ]
    },
    {
      "cell_type": "markdown",
      "metadata": {
        "id": "soIV-F7Wcbp3"
      },
      "source": [
        "### A student is taking a cryptography class and has found anagrams to be very useful. Two strings are anagrams of each other if the first string's letters can be rearranged to form the second string. In other words, both strings must contain the same exact letters in the same exact frequency. For example, bacdc and dcbac are anagrams, but bacdc and dcbad are not.\n",
        "\n",
        "### The student decides on an encryption scheme that involves two large strings. The encryption is dependent on the minimum number of character deletions required to make the two strings anagrams. You need to determine this number.\n",
        "\n",
        "### Given two strings, $a$ and $b$, that may or may not be of the same length, determine the minimum number of character deletions required to make $a$ and $b$ anagrams. Any characters can be deleted from either of the strings. The strings $a$ and $b$ consist of lowercase English alphabets."
      ]
    },
    {
      "cell_type": "markdown",
      "metadata": {
        "id": "TS0zgz0PcfYz"
      },
      "source": [
        "**Example**\n",
        "\n",
        "<code>a = 'cde'</code>\n",
        "\n",
        "<code>b = 'dcf' </code>"
      ]
    },
    {
      "cell_type": "markdown",
      "metadata": {
        "id": "kxZ3mdXsckZm"
      },
      "source": [
        "### Delete $e$ from $a$ and $f$ from $b$ so that the remaining strings are $cd$ and $dc$ which are anagrams. This takes 2 character deletions."
      ]
    },
    {
      "cell_type": "markdown",
      "metadata": {
        "id": "1QlkSP3KcozS"
      },
      "source": [
        "## **Function Description**\n",
        "\n",
        "### Create a <code>makeAnagram</code> function below.\n",
        "\n",
        "### **Inputs:**\n",
        "\n",
        "### string a: a string\n",
        "\n",
        "### string b: another string\n",
        "\n",
        "### **Output:**\n",
        "\n",
        "### int: the minimum total characters that must be deleted"
      ]
    },
    {
      "cell_type": "markdown",
      "metadata": {
        "id": "-woYEa44Z-Cf"
      },
      "source": [
        "# Solution"
      ]
    },
    {
      "cell_type": "code",
      "metadata": {
        "id": "sJ6O2MtIZ9dP"
      },
      "source": [
        "def makeAnagram(string1, string2):\r\n",
        "  ''' This method provides you no of alphabets to be rearranged to get anagram'''\r\n",
        "\r\n",
        "  global_dict = ['a','b','c','d','e','f','g','h','i','j','k','l','m','n','o','p','q','r','s','t','u','v','w','x','y','z']\r\n",
        "\r\n",
        "  count = 0\r\n",
        "  string1 = string1.lower()\r\n",
        "  string2 = string2.lower()\r\n",
        "  if len(string1)!= len(string2):\r\n",
        "    print('Both strings should be equal length')\r\n",
        "  elif len(string1)==0:\r\n",
        "    print('Please input valid strings. This are empty strings')\r\n",
        "  else:\r\n",
        "    for i in string1:\r\n",
        "      if i not in global_dict:\r\n",
        "        print('String1 contains non alphabetic values')\r\n",
        "        count = -1\r\n",
        "        break\r\n",
        "      else:\r\n",
        "        if string1.count(i) == string2.count(i):\r\n",
        "          pass\r\n",
        "        else:\r\n",
        "          count = count+ abs(string1.count(i)-string2.count(i))\r\n",
        "    for i in string2:\r\n",
        "      if i not in global_dict:\r\n",
        "        count = -1\r\n",
        "        print('String2 contains non alphabetic values')\r\n",
        "      else:\r\n",
        "        if i not in string1:\r\n",
        "          count = count + abs(string2.count(i))\r\n",
        "    if count == 0:\r\n",
        "      print('Hurray strings are anagram')\r\n",
        "    elif count == -1:\r\n",
        "      pass\r\n",
        "    else:\r\n",
        "      print('Need to make',count,'changes')\r\n"
      ],
      "execution_count": null,
      "outputs": []
    },
    {
      "cell_type": "code",
      "metadata": {
        "colab": {
          "base_uri": "https://localhost:8080/"
        },
        "id": "-3QtNEGUwept",
        "outputId": "398002ca-ba73-4130-df3d-9f2acec64663"
      },
      "source": [
        "#Checking cases\r\n",
        "makeAnagram('','dcf')"
      ],
      "execution_count": null,
      "outputs": [
        {
          "output_type": "stream",
          "text": [
            "Both strings should be equal length\n"
          ],
          "name": "stdout"
        }
      ]
    },
    {
      "cell_type": "code",
      "metadata": {
        "colab": {
          "base_uri": "https://localhost:8080/"
        },
        "id": "rSIa6nS-weoL",
        "outputId": "7c9178fb-4537-4690-dfae-9f7335dbb5e4"
      },
      "source": [
        "makeAnagram('','')"
      ],
      "execution_count": null,
      "outputs": [
        {
          "output_type": "stream",
          "text": [
            "Please input valid strings. This are empty strings\n"
          ],
          "name": "stdout"
        }
      ]
    },
    {
      "cell_type": "code",
      "metadata": {
        "colab": {
          "base_uri": "https://localhost:8080/"
        },
        "id": "GZpcUZz1wemA",
        "outputId": "3b2ca394-5e3c-4d4e-cfc9-6d365a63c5f1"
      },
      "source": [
        "makeAnagram('cde','xyz')"
      ],
      "execution_count": null,
      "outputs": [
        {
          "output_type": "stream",
          "text": [
            "Need to make 6 changes\n"
          ],
          "name": "stdout"
        }
      ]
    },
    {
      "cell_type": "code",
      "metadata": {
        "colab": {
          "base_uri": "https://localhost:8080/"
        },
        "id": "6O2C1Xtawei_",
        "outputId": "e87f2ab4-7b0e-44b5-955d-0f7255ea6179"
      },
      "source": [
        "makeAnagram('cde', 'edc')"
      ],
      "execution_count": null,
      "outputs": [
        {
          "output_type": "stream",
          "text": [
            "Hurray strings are anagram\n"
          ],
          "name": "stdout"
        }
      ]
    },
    {
      "cell_type": "code",
      "metadata": {
        "colab": {
          "base_uri": "https://localhost:8080/"
        },
        "id": "rmDvApjDwegS",
        "outputId": "7059000d-38c4-4daa-b245-6ce93c98ec7d"
      },
      "source": [
        "makeAnagram('1ac','cac')"
      ],
      "execution_count": null,
      "outputs": [
        {
          "output_type": "stream",
          "text": [
            "String1 contains non alphabetic values\n"
          ],
          "name": "stdout"
        }
      ]
    },
    {
      "cell_type": "code",
      "metadata": {
        "id": "G4pz0uFyy4Sb",
        "colab": {
          "base_uri": "https://localhost:8080/"
        },
        "outputId": "f5db3f87-e1fa-4fcd-ff04-1611bdb801ec"
      },
      "source": [
        "makeAnagram('bacdc', 'dcbac')"
      ],
      "execution_count": null,
      "outputs": [
        {
          "output_type": "stream",
          "text": [
            "Hurray strings are anagram\n"
          ],
          "name": "stdout"
        }
      ]
    }
  ]
}